{
  "nbformat": 4,
  "nbformat_minor": 0,
  "metadata": {
    "colab": {
      "provenance": []
    },
    "kernelspec": {
      "name": "python3",
      "display_name": "Python 3"
    },
    "language_info": {
      "name": "python"
    }
  },
  "cells": [
    {
      "cell_type": "code",
      "execution_count": null,
      "metadata": {
        "id": "UnYPCT917yqM"
      },
      "outputs": [],
      "source": [
        "import json\n",
        "import pandas as pd\n",
        "from sqlalchemy import create_engine\n",
        "\n",
        "# Set up database connection\n",
        "db_user = 'username'\n",
        "db_password = 'password'\n",
        "db_host = 'host'\n",
        "db_name = 'database'\n",
        "\n",
        "engine = create_engine(f'postgresql://{db_user}:{db_password}@{db_host}/{db_name}')\n",
        "\n",
        "# Load and parse JSON files\n",
        "def load_json_files(file_paths):\n",
        "    data = []\n",
        "    for file_path in file_paths:\n",
        "        with open(file_path, 'r') as file:\n",
        "            data.extend(json.load(file))\n",
        "    return data\n",
        "\n",
        "# Extract data into DataFrames\n",
        "def extract_dataframes(data):\n",
        "    reviewers = []\n",
        "    products = []\n",
        "    reviews = []\n",
        "\n",
        "    for item in data:\n",
        "        reviewer = {\n",
        "            'reviewer_id': item['reviewerID'],\n",
        "            'reviewer_name': item['reviewerName']\n",
        "        }\n",
        "        reviewers.append(reviewer)\n",
        "\n",
        "        product = {\n",
        "            'product_id': item['asin'],\n",
        "            'product_title': item['title'],\n",
        "            'product_category': item['category']\n",
        "        }\n",
        "        products.append(product)\n",
        "\n",
        "        review = {\n",
        "            'review_id': item['reviewTime'],\n",
        "            'reviewer_id': item['reviewerID'],\n",
        "            'product_id': item['asin'],\n",
        "            'review_text': item['reviewText'],\n",
        "            'rating': item['overall'],\n",
        "            'helpful_votes': item['helpful'][0]\n",
        "        }\n",
        "        reviews.append(review)\n",
        "\n",
        "    reviewers_df = pd.DataFrame(reviewers).drop_duplicates()\n",
        "    products_df = pd.DataFrame(products).drop_duplicates()\n",
        "    reviews_df = pd.DataFrame(reviews)\n",
        "\n",
        "    return reviewers_df, products_df, reviews_df\n",
        "\n",
        "# Load DataFrames into PostgreSQL\n",
        "def load_to_postgresql(engine, reviewers_df, products_df, reviews_df):\n",
        "    reviewers_df.to_sql('reviewers', engine, if_exists='replace', index=False)\n",
        "    products_df.to_sql('products', engine, if_exists='replace', index=False)\n",
        "    reviews_df.to_sql('reviews', engine, if_exists='replace', index=False)\n",
        "\n",
      
    }
  ]
}
