import json
import pandas as pd
from sqlalchemy import create_engine

# Set up database connection
db_user = 'your_username'
db_password = 'your_password'
db_host = 'your_host'
db_name = 'your_database'

engine = create_engine(f'postgresql://{db_user}:{db_password}@{db_host}/{db_name}')

# Load and parse JSON files
def load_json_files(file_paths):
    data = []
    for file_path in file_paths:
        with open(file_path, 'r') as file:
            data.extend(json.load(file))
    return data

# Extract data into DataFrames
def extract_dataframes(data):
    reviewers = []
    products = []
    reviews = []

    for item in data:
        reviewer = {
            'reviewer_id': item['reviewerID'],
            'reviewer_name': item['reviewerName']
        }
        reviewers.append(reviewer)

        product = {
            'product_id': item['asin'],
            'product_title': item['title'],
            'product_category': item['category']
        }
        products.append(product)

        review = {
            'review_id': item['reviewTime'],
            'reviewer_id': item['reviewerID'],
            'product_id': item['asin'],
            'review_text': item['reviewText'],
            'rating': item['overall'],
            'helpful_votes': item['helpful'][0]
        }
        reviews.append(review)

    reviewers_df = pd.DataFrame(reviewers).drop_duplicates()
    products_df = pd.DataFrame(products).drop_duplicates()
    reviews_df = pd.DataFrame(reviews)

    return reviewers_df, products_df, reviews_df

# Load DataFrames into PostgreSQL
def load_to_postgresql(engine, reviewers_df, products_df, reviews_df):
    reviewers_df.to_sql('reviewers', engine, if_exists='replace', index=False)
    products_df.to_sql('products', engine, if_exists='replace', index=False)
    reviews_df.to_sql('reviews', engine, if_exists='replace', index=False)

# Example analysis queries
def run_analysis(engine):
    # Example 1: Top 10 reviewers by number of reviews
    query_1 = '''
        SELECT reviewer_id, COUNT(*) as review_count
        FROM reviews
        GROUP BY reviewer_id
        ORDER BY review_count DESC
        LIMIT 10;
    '''
    result_1 = pd.read_sql(query_1, engine)
    print("Top 10 reviewers by number of reviews:")
    print(result_1)

    # Example 2: Average rating and number of reviews per product
    query_2 = '''
        SELECT product_id, AVG(rating) as avg_rating, COUNT(*) as review_count
        FROM reviews
        GROUP BY product_id;
    '''
    result_2 = pd.read_sql(query_2, engine)
    print("Average rating and number of reviews per product:")
    print(result_2.head())

# Main execution
if __name__ == '__main__':
    file_paths = ['path/to/file1.json', 'path/to/file2.json']  # Replace with your file paths
    
    data = load_json_files(file_paths)
    reviewers_df, products_df, reviews_df = extract_dataframes(data)
    
    load_to_postgresql(engine, reviewers_df, products_df, reviews_df)
    
    run_analysis(engine)
